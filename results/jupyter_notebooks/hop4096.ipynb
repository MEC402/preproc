{
 "cells": [
  {
   "cell_type": "code",
   "execution_count": 58,
   "metadata": {
    "collapsed": false
   },
   "outputs": [],
   "source": [
    "import os\n",
    "import json\n",
    "from pprint import pprint\n",
    "import re\n",
    "import numpy as np\n",
    "from scipy import stats\n",
    "%matplotlib inline\n",
    "import matplotlib.pyplot as plt\n",
    "\n",
    "\n",
    "def atoi(text):\n",
    "    return int(text) if text.isdigit() else text\n",
    "\n",
    "\n",
    "def natural_keys(text):\n",
    "    '''\n",
    "    alist.sort(key=natural_keys) sorts in human order\n",
    "    http://nedbatchelder.com/blog/200712/human_sorting.html\n",
    "    (See Toothy's implementation in the comments)\n",
    "    '''\n",
    "    return [atoi(c) for c in re.split('(\\d+)', text)]\n",
    "\n",
    "\n",
    "def length_keys(li):\n",
    "    return len(li)\n",
    "\n",
    "\n",
    "def all_files_data(dir_name):\n",
    "    \"\"\"\n",
    "    Return a list with json data for all files in dir_name, and a matching list\n",
    "    with all of the keys for each block of the blocks object in sorted order.\n",
    "    List looks like:\n",
    "      {\n",
    "          'header': {..stuff..},\n",
    "          'blocks': {\n",
    "              'block_0': { ..block stuff.. },\n",
    "              'block_1': { ..block stuff.. },\n",
    "                ...\n",
    "                ...\n",
    "          }\n",
    "      }\n",
    "    Keys list is just:\n",
    "       [   [ 'block_0' ],\n",
    "           [ 'block_0', 'block_1' ],\n",
    "              ...\n",
    "           [ 'block_0', ..., 'block_N' ]\n",
    "       ]\n",
    "    \"\"\"\n",
    "    skip_list = ['.DS_Store']\n",
    "    all_files_data_list = []\n",
    "    all_files = os.listdir(dir_name)\n",
    "    all_files.sort(key=natural_keys)\n",
    "    for f in all_files:\n",
    "        if f not in skip_list:\n",
    "            with open(dir_name + f) as data_file:\n",
    "                all_files_data_list.append(json.load(data_file))\n",
    "\n",
    "    keys_sorted = []\n",
    "    for d in all_files_data_list:\n",
    "        sorted_keys = [x for x in d['blocks']]\n",
    "        sorted_keys.sort(key=natural_keys)\n",
    "        keys_sorted.append(sorted_keys)\n",
    "\n",
    "    return all_files_data_list, keys_sorted\n",
    "\n",
    "\n",
    "def compute_average_of_block_averages(blocks_object):\n",
    "    \"\"\"\n",
    "    Compute the average of all the block averages in blocks_ojbect\n",
    "    :param blocks_object: JSON object with a bunch of block objects.\n",
    "    :return: A single average for all the block averages.\n",
    "    \"\"\"\n",
    "    total = 0\n",
    "    num_blocks = 0\n",
    "    for b in blocks_object:\n",
    "        total += blocks_object[b]['avg_val']  # Get the block and add the average value\n",
    "        num_blocks += 1\n",
    "    return total / num_blocks\n",
    "\n",
    "\n",
    "def compute_average_of_all_block_averages_for_all_the_files(all_files_data_list):\n",
    "    \"\"\"\n",
    "    For each file, get the blocks object from all_files_data_list and compute the average of each block.\n",
    "    :param all_files_data_list:\n",
    "    :return:\n",
    "    \"\"\"\n",
    "    average_of_average_values = []\n",
    "    for f in all_files_data_list:\n",
    "        avg = 0\n",
    "        blocks_object = f['blocks']  # JSON object for all the blocks in file f.\n",
    "        avg = compute_average_of_block_averages(blocks_object)\n",
    "        average_of_average_values.append(avg)\n",
    "\n",
    "    return average_of_average_values"
   ]
  },
  {
   "cell_type": "code",
   "execution_count": 59,
   "metadata": {
    "collapsed": true
   },
   "outputs": [
    {
     "name": "stdout",
     "output_type": "stream",
     "text": [
      "Found 32 files in ../json/hop_flower-4096/\n"
     ]
    },
    {
     "data": {
      "text/plain": [
       "[0.848073,\n",
       " 3.9344687499999997,\n",
       " 4.9023081481481485,\n",
       " 5.4727759375,\n",
       " 5.640415200000001,\n",
       " 6.142390694444443,\n",
       " 6.286634810495626,\n",
       " 6.467143183593753,\n",
       " 6.539290850480106,\n",
       " 6.587313439999994,\n",
       " 6.6691165514650645,\n",
       " 6.709913807870382,\n",
       " 6.71045092398726,\n",
       " 6.742234562682212,\n",
       " 6.739157042962947,\n",
       " 6.750062080078111,\n",
       " 6.771295957663355,\n",
       " 6.77718884773661,\n",
       " 6.78544749088788,\n",
       " 6.777653948749987,\n",
       " 6.781254321347577,\n",
       " 6.7892221262209,\n",
       " 6.801830352593093,\n",
       " 6.807802949218726,\n",
       " 6.808927260160041,\n",
       " 6.808018705621307,\n",
       " 6.815039317685301,\n",
       " 6.806941880010963,\n",
       " 6.813073418754374,\n",
       " 6.817495640740725,\n",
       " 6.812652592058016,\n",
       " 6.813777407531729]"
      ]
     },
     "execution_count": 59,
     "metadata": {},
     "output_type": "execute_result"
    }
   ],
   "source": [
    "dir_name = '../json/hop_flower-4096/'\n",
    "print('Found {} files in {}'.format(len(all_files), dir_name))\n",
    "\n",
    "all_files_data_list, keys_sorted = all_files_data(dir_name)\n",
    "average_of_average_values = compute_average_of_all_block_averages_for_all_the_files(all_files_data_list)\n",
    "average_of_average_values"
   ]
  },
  {
   "cell_type": "code",
   "execution_count": 60,
   "metadata": {
    "collapsed": false
   },
   "outputs": [
    {
     "data": {
      "image/png": "[encoded data removed]",
      "text/plain": [
       "<matplotlib.figure.Figure at 0x107e0d978>"
      ]
     },
     "metadata": {},
     "output_type": "display_data"
    }
   ],
   "source": [
    "plt.plot(np.arange(1,len(average_of_average_values)+1),average_of_average_values)\n",
    "plt.title('Average of block averages.')\n",
    "plt.xlabel('Block count (x^3)')\n",
    "plt.ylabel('Block average')\n",
    "plt.show()"
   ]
  },
  {
   "cell_type": "markdown",
   "metadata": {},
   "source": [
    "Average value of blocks starting with block index (0,0,0) and ending with index (32,32,32)"
   ]
  },
  {
   "cell_type": "code",
   "execution_count": 61,
   "metadata": {
    "collapsed": false
   },
   "outputs": [
    {
     "name": "stdout",
     "output_type": "stream",
     "text": [
      "Mean of avgs: 6.750062080078125, median: 6.520295, Most frequent avg value: 6.3952775\n"
     ]
    },
    {
     "data": {
      "image/png": "[encoded data removed]",
      "text/plain": [
       "<matplotlib.figure.Figure at 0x1123fe550>"
      ]
     },
     "metadata": {},
     "output_type": "display_data"
    },
    {
     "data": {
      "image/png": "[encoded data removed]",
      "text/plain": [
       "<matplotlib.figure.Figure at 0x101abc128>"
      ]
     },
     "metadata": {},
     "output_type": "display_data"
    }
   ],
   "source": [
    "blocks_16_16_16 = all_files_data_list[15]['blocks']\n",
    "avg_16_16_16_list = [blocks_16_16_16[x]['avg_val'] for x in blocks_16_16_16]\n",
    "minmin = np.min(avg_16_16_16_list)\n",
    "maxmax = np.max(avg_16_16_16_list)\n",
    "tmin = []\n",
    "kept = []\n",
    "for t in np.arange(minmin,maxmax):\n",
    "    tmin.append(t)\n",
    "    kept.append(len([x for x in avg_16_16_16_list if x > t]))\n",
    "\n",
    "freq, bins, things = plt.hist(avg_16_16_16_list, bins=100)\n",
    "\n",
    "print(\"Mean of avgs: {}, median: {}, Most frequent avg value: {}\"\n",
    "      .format(np.mean(avg_16_16_16_list), np.median(avg_16_16_16_list), bins[np.where(freq == max(freq))][0]))\n",
    "\n",
    "plt.figure()\n",
    "plt.plot(tmin, kept)\n",
    "plt.title('Blocks kept vs min. avg. threshold.')\n",
    "plt.xlabel('Minimum avg (tmin)')\n",
    "plt.ylabel('# blocks kept')\n",
    "plt.show()"
   ]
  },
  {
   "cell_type": "markdown",
   "metadata": {
    "collapsed": true
   },
   "source": [
    "Blocks with average value above tmin are kept."
   ]
  },
  {
   "cell_type": "code",
   "execution_count": 62,
   "metadata": {
    "collapsed": false
   },
   "outputs": [
    {
     "name": "stdout",
     "output_type": "stream",
     "text": [
      "Mean of avgs: 6.813777407531738, median: 6.558005, Most frequent avg value: 6.3989682000000006\n"
     ]
    },
    {
     "data": {
      "image/png": "[encoded data removed]",
      "text/plain": [
       "<matplotlib.figure.Figure at 0x110f24908>"
      ]
     },
     "metadata": {},
     "output_type": "display_data"
    },
    {
     "data": {
      "image/png": "[encoded data removed]",
      "text/plain": [
       "<matplotlib.figure.Figure at 0x1102edf60>"
      ]
     },
     "metadata": {},
     "output_type": "display_data"
    }
   ],
   "source": [
    "blocks_32_32_32 = all_files_data_list[31]['blocks']\n",
    "avg_32_32_32_list = [blocks_32_32_32[x]['avg_val'] for x in blocks_32_32_32]\n",
    "minmin = np.min(avg_32_32_32_list)\n",
    "maxmax = np.max(avg_32_32_32_list)\n",
    "tmin = []\n",
    "kept = []\n",
    "for t in np.arange(minmin,maxmax):\n",
    "    tmin.append(t)\n",
    "    kept.append(len([x for x in avg_32_32_32_list if x > t]))\n",
    "\n",
    "freq, bins, things = plt.hist(avg_32_32_32_list, bins=100)\n",
    "\n",
    "print(\"Mean of avgs: {}, median: {}, Most frequent avg value: {}\"\n",
    "      .format(np.mean(avg_32_32_32_list), np.median(avg_32_32_32_list), bins[np.where(freq == max(freq))][0]))\n",
    "\n",
    "plt.figure()\n",
    "plt.plot(tmin, kept)\n",
    "plt.title('Blocks kept vs min. avg. threshold.')\n",
    "plt.xlabel('Minimum avg (tmin)')\n",
    "plt.ylabel('# blocks kept')\n",
    "plt.show()"
   ]
  }
 ],
 "metadata": {
  "celltoolbar": "Raw Cell Format",
  "kernelspec": {
   "display_name": "Python 3",
   "language": "python",
   "name": "python3"
  },
  "language_info": {
   "codemirror_mode": {
    "name": "ipython",
    "version": 3
   },
   "file_extension": ".py",
   "mimetype": "text/x-python",
   "name": "python",
   "nbconvert_exporter": "python",
   "pygments_lexer": "ipython3",
   "version": "3.5.1"
  }
 },
 "nbformat": 4,
 "nbformat_minor": 0
}
