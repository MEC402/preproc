{
 "cells": [
  {
   "cell_type": "code",
   "execution_count": 21,
   "metadata": {
    "collapsed": false
   },
   "outputs": [],
   "source": [
    "import os\n",
    "import json\n",
    "from pprint import pprint\n",
    "import re\n",
    "import numpy as np\n",
    "from scipy import stats\n",
    "%matplotlib inline\n",
    "import matplotlib.pyplot as plt\n",
    "\n",
    "\n",
    "def atoi(text):\n",
    "    return int(text) if text.isdigit() else text\n",
    "\n",
    "def natural_keys(text):\n",
    "    '''\n",
    "    alist.sort(key=natural_keys) sorts in human order\n",
    "    http://nedbatchelder.com/blog/200712/human_sorting.html\n",
    "    (See Toothy's implementation in the comments)\n",
    "    '''\n",
    "    return [ atoi(c) for c in re.split('(\\d+)', text) ]\n",
    "\n",
    "def length_keys(li):\n",
    "    return len(li)"
   ]
  },
  {
   "cell_type": "code",
   "execution_count": 23,
   "metadata": {
    "collapsed": false
   },
   "outputs": [
    {
     "name": "stdout",
     "output_type": "stream",
     "text": [
      "Found 32 files in ../json/hop_flower-4096/\n"
     ]
    }
   ],
   "source": [
    "dir_name = '../json/hop_flower-4096/'\n",
    "all_files = os.listdir(dir_name)\n",
    "print('Found {} files in {}'.format(len(all_files), dir_name))\n",
    "all_files.sort(key=natural_keys)\n",
    "all_files_data_list = []\n",
    "\n",
    "for f in all_files:\n",
    "    with open(dir_name + f) as data_file:\n",
    "        all_files_data_list.append(json.load(data_file))\n",
    "\n",
    "keys_sorted = []\n",
    "for d in all_files_data_list:\n",
    "    sorted_keys = [x for x in d['blocks']]\n",
    "    sorted_keys.sort(key=natural_keys)\n",
    "    keys_sorted.append(sorted_keys)\n",
    "    "
   ]
  },
  {
   "cell_type": "code",
   "execution_count": 29,
   "metadata": {
    "collapsed": false
   },
   "outputs": [
    {
     "data": {
      "text/plain": [
       "['block_0',\n",
       " 'block_1',\n",
       " 'block_2',\n",
       " 'block_3',\n",
       " 'block_4',\n",
       " 'block_5',\n",
       " 'block_6',\n",
       " 'block_7']"
      ]
     },
     "execution_count": 29,
     "metadata": {},
     "output_type": "execute_result"
    }
   ],
   "source": [
    "keys_sorted[1]"
   ]
  },
  {
   "cell_type": "code",
   "execution_count": 14,
   "metadata": {
    "collapsed": false
   },
   "outputs": [
    {
     "data": {
      "image/png": "[encoded data removed]",
      "text/plain": [
       "<matplotlib.figure.Figure at 0x1071a7e10>"
      ]
     },
     "metadata": {},
     "output_type": "display_data"
    }
   ],
   "source": [
    "averages = np.array([data['blocks'][x]['avg_val'] for x in keys_sorted])\n",
    "plt.plot(averages)\n",
    "plt.title('Average block values of hop_flower-4096 with 32^3 blocks.')\n",
    "plt.xlabel('1D block index')\n",
    "plt.ylabel('Block average')\n",
    "plt.show()"
   ]
  },
  {
   "cell_type": "code",
   "execution_count": null,
   "metadata": {
    "collapsed": true
   },
   "outputs": [],
   "source": [
    "minmin = np.min(averages)\n",
    "maxmax = np.max(averages)\n",
    "tmin = []\n",
    "kept = []\n",
    "for t in np.arange(minmin,maxmax):\n",
    "    tmin.append(t)\n",
    "    kept.append(len([x for x in averages if x > t]))\n",
    "    \n",
    "print( \"Mean of avgs: {} median: {}\".format(np.mean(averages), np.median(averages)))    \n",
    "plt.plot(tmin, kept)\n",
    "plt.title('Blocks kept vs min. avg. value threashold.')\n",
    "plt.xlabel('Minimum average threashold value')\n",
    "plt.ylabel('# blocks kept')\n",
    "plt.show()\n",
    "\n",
    "# Plot shows how many blocks are kept as the minimum threshold of average value increases from the min to the max.\n",
    "# Kept blocks drop off sharply as tmin increases beyond 5."
   ]
  },
  {
   "cell_type": "code",
   "execution_count": null,
   "metadata": {
    "collapsed": true
   },
   "outputs": [],
   "source": []
  }
 ],
 "metadata": {
  "celltoolbar": "Raw Cell Format",
  "kernelspec": {
   "display_name": "Python 3",
   "language": "python",
   "name": "python3"
  },
  "language_info": {
   "codemirror_mode": {
    "name": "ipython",
    "version": 3
   },
   "file_extension": ".py",
   "mimetype": "text/x-python",
   "name": "python",
   "nbconvert_exporter": "python",
   "pygments_lexer": "ipython3",
   "version": "3.5.1"
  }
 },
 "nbformat": 4,
 "nbformat_minor": 0
}
