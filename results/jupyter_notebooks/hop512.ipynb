{
 "cells": [
  {
   "cell_type": "code",
   "execution_count": 41,
   "metadata": {
    "collapsed": false
   },
   "outputs": [
    {
     "name": "stdout",
     "output_type": "stream",
     "text": [
      "Using matplotlib backend: MacOSX\n"
     ]
    }
   ],
   "source": [
    "import os\n",
    "import json\n",
    "from pprint import pprint\n",
    "import re\n",
    "import numpy as np\n",
    "from scipy import stats\n",
    "%matplotlib\n",
    "import matplotlib.pyplot as plt\n",
    "\n",
    "\n",
    "def atoi(text):\n",
    "    return int(text) if text.isdigit() else text\n",
    "\n",
    "\n",
    "def natural_keys(text):\n",
    "    '''\n",
    "    alist.sort(key=natural_keys) sorts in human order\n",
    "    http://nedbatchelder.com/blog/200712/human_sorting.html\n",
    "    (See Toothy's implementation in the comments)\n",
    "    '''\n",
    "    return [atoi(c) for c in re.split('(\\d+)', text)]\n",
    "\n",
    "\n",
    "def length_keys(li):\n",
    "    return len(li)\n",
    "\n",
    "\n",
    "def all_files_data(dir_name):\n",
    "    \"\"\"\n",
    "    Return a list with json data for all files in dir_name, and a matching list\n",
    "    with all of the keys for each block of the blocks object in sorted order.\n",
    "    List looks like:\n",
    "      {\n",
    "          'header': {..stuff..},\n",
    "          'blocks': {\n",
    "              'block_0': { ..block stuff.. },\n",
    "              'block_1': { ..block stuff.. },\n",
    "                ...\n",
    "                ...\n",
    "          }\n",
    "      }\n",
    "    Keys list is just:\n",
    "       [   [ 'block_0' ],\n",
    "           [ 'block_0', 'block_1' ],\n",
    "              ...\n",
    "           [ 'block_0', ..., 'block_N' ]\n",
    "       ]\n",
    "    \"\"\"\n",
    "    skip_list = ['.DS_Store']\n",
    "    all_files_data_list = []\n",
    "    all_files = os.listdir(dir_name)\n",
    "    all_files.sort(key=natural_keys)\n",
    "    for f in all_files:\n",
    "        if f not in skip_list:\n",
    "            with open(dir_name + f) as data_file:\n",
    "                all_files_data_list.append(json.load(data_file))\n",
    "\n",
    "    keys_sorted = []\n",
    "    for d in all_files_data_list:\n",
    "        sorted_keys = [x for x in d['blocks']]\n",
    "        sorted_keys.sort(key=natural_keys)\n",
    "        keys_sorted.append(sorted_keys)\n",
    "\n",
    "    return all_files_data_list, keys_sorted\n",
    "\n",
    "\n",
    "def compute_average_of_block_averages(blocks_object):\n",
    "    \"\"\"\n",
    "    Compute the average of all the block averages in blocks_ojbect\n",
    "    :param blocks_object: JSON object with a bunch of block objects.\n",
    "    :return: A single average for all the block averages.\n",
    "    \"\"\"\n",
    "    total = 0\n",
    "    num_blocks = 0\n",
    "    for b in blocks_object:\n",
    "        total += blocks_object[b]['avg_val']  # Get the block and add the average value\n",
    "        num_blocks += 1\n",
    "    return total / num_blocks\n",
    "\n",
    "\n",
    "def compute_average_of_all_block_averages_for_all_the_files(all_files_data_list):\n",
    "    \"\"\"\n",
    "    For each file, get the blocks object from all_files_data_list and compute the average of each block.\n",
    "    :param all_files_data_list:\n",
    "    :return:\n",
    "    \"\"\"\n",
    "    average_of_average_values = []\n",
    "    for f in all_files_data_list:\n",
    "        avg = 0\n",
    "        blocks_object = f['blocks']  # JSON object for all the blocks in file f.\n",
    "        avg = compute_average_of_block_averages(blocks_object)\n",
    "        average_of_average_values.append(avg)\n",
    "\n",
    "    return average_of_average_values"
   ]
  },
  {
   "cell_type": "code",
   "execution_count": 30,
   "metadata": {
    "collapsed": true
   },
   "outputs": [
    {
     "name": "stdout",
     "output_type": "stream",
     "text": [
      "Found 32 files in ../json/hop_flower-512/\n"
     ]
    },
    {
     "data": {
      "text/plain": [
       "[0.846925,\n",
       " 3.8689824999999995,\n",
       " 5.010113703703703,\n",
       " 5.45548765625,\n",
       " 5.984157279999997,\n",
       " 6.39765888888889,\n",
       " 6.486156763848397,\n",
       " 6.549374941406248,\n",
       " 6.682331358024693,\n",
       " 6.716881249999993,\n",
       " 6.741491209616845,\n",
       " 6.760619114583324,\n",
       " 6.805151210741926,\n",
       " 6.789402383381933,\n",
       " 6.813029703703709,\n",
       " 6.7966967578124935,\n",
       " 6.820021219214325,\n",
       " 6.7906756361454175,\n",
       " 6.825204410263898,\n",
       " 6.822022012499998,\n",
       " 6.82523061332472,\n",
       " 6.841964290007534,\n",
       " 6.835387059258638,\n",
       " 6.819095812355288,\n",
       " 6.844736731520011,\n",
       " 6.85639430644056,\n",
       " 6.8312609109383615,\n",
       " 6.835443019770413,\n",
       " 6.83934684488907,\n",
       " 6.853119381851827,\n",
       " 6.834027725151888,\n",
       " 6.852464014892643]"
      ]
     },
     "execution_count": 30,
     "metadata": {},
     "output_type": "execute_result"
    }
   ],
   "source": [
    "dir_name = '../json/hop_flower-512/'\n",
    "print('Found {} files in {}'.format(len(all_files), dir_name))\n",
    "\n",
    "all_files_data_list, keys_sorted = all_files_data(dir_name)\n",
    "average_of_average_values = compute_average_of_all_block_averages_for_all_the_files(all_files_data_list)\n",
    "average_of_average_values"
   ]
  },
  {
   "cell_type": "code",
   "execution_count": 34,
   "metadata": {
    "collapsed": false
   },
   "outputs": [
    {
     "data": {
      "image/png": "[encoded data removed]",
      "text/plain": [
       "<matplotlib.figure.Figure at 0x11a285048>"
      ]
     },
     "metadata": {},
     "output_type": "display_data"
    }
   ],
   "source": [
    "plt.plot(np.arange(1,len(average_of_average_values)+1),average_of_average_values)\n",
    "plt.title('Average of block averages.')\n",
    "plt.xlabel('Block count (x^3)')\n",
    "plt.ylabel('Block average')\n",
    "plt.show()"
   ]
  },
  {
   "cell_type": "code",
   "execution_count": 39,
   "metadata": {
    "collapsed": false
   },
   "outputs": [
    {
     "name": "stdout",
     "output_type": "stream",
     "text": [
      "Mean of avgs: 6.7966967578125, median: 6.55616, Most frequent avg value: 6.4840576\n"
     ]
    },
    {
     "data": {
      "image/png": "[encoded data removed]",
      "text/plain": [
       "<matplotlib.figure.Figure at 0x114533550>"
      ]
     },
     "metadata": {},
     "output_type": "display_data"
    },
    {
     "data": {
      "image/png": "[encoded data removed]",
      "text/plain": [
       "<matplotlib.figure.Figure at 0x118628588>"
      ]
     },
     "metadata": {},
     "output_type": "display_data"
    }
   ],
   "source": [
    "blocks_16_16_16 = all_files_data_list[15]['blocks']\n",
    "avg_16_16_16_list = [blocks_16_16_16[x]['avg_val'] for x in blocks_16_16_16]\n",
    "minmin = np.min(avg_16_16_16_list)\n",
    "maxmax = np.max(avg_16_16_16_list)\n",
    "tmin = []\n",
    "kept = []\n",
    "for t in np.arange(minmin,maxmax,0.1):\n",
    "    tmin.append(t)\n",
    "    kept.append(len([x for x in avg_16_16_16_list if x > t]))\n",
    "\n",
    "freq, bins, things = plt.hist(avg_16_16_16_list, bins=100)\n",
    "\n",
    "print(\"Mean of avgs: {}, median: {}, Most frequent avg value: {}\"\n",
    "      .format(np.mean(avg_16_16_16_list), np.median(avg_16_16_16_list), bins[np.where(freq == max(freq))][0]))\n",
    "\n",
    "plt.figure()\n",
    "plt.plot(tmin, kept)\n",
    "plt.title('Blocks kept vs min. avg. threshold.')\n",
    "plt.xlabel('Minimum avg (tmin)')\n",
    "plt.ylabel('# blocks kept')\n",
    "plt.show()"
   ]
  },
  {
   "cell_type": "markdown",
   "metadata": {
    "collapsed": true
   },
   "source": [
    "Blocks with average value above tmin are kept."
   ]
  },
  {
   "cell_type": "code",
   "execution_count": 42,
   "metadata": {
    "collapsed": false
   },
   "outputs": [
    {
     "name": "stdout",
     "output_type": "stream",
     "text": [
      "Mean of avgs: 6.852464014892577, median: 6.56527, Most frequent avg value: 6.4820421\n"
     ]
    }
   ],
   "source": [
    "blocks_32_32_32 = all_files_data_list[31]['blocks']\n",
    "avg_32_32_32_list = [blocks_32_32_32[x]['avg_val'] for x in blocks_32_32_32]\n",
    "minmin = np.min(avg_32_32_32_list)\n",
    "maxmax = np.max(avg_32_32_32_list)\n",
    "tmin = []\n",
    "kept = []\n",
    "for t in np.arange(minmin,maxmax,0.1):\n",
    "    tmin.append(t)\n",
    "    kept.append(len([x for x in avg_32_32_32_list if x > t]))\n",
    "\n",
    "freq, bins, things = plt.hist(avg_32_32_32_list, bins=200)\n",
    "\n",
    "print(\"Mean of avgs: {}, median: {}, Most frequent avg value: {}\"\n",
    "      .format(np.mean(avg_32_32_32_list), np.median(avg_32_32_32_list), bins[np.where(freq == max(freq))][0]))\n",
    "\n",
    "plt.figure()\n",
    "plt.plot(tmin, kept)\n",
    "plt.title('Blocks kept vs min. avg. threshold.')\n",
    "plt.xlabel('Minimum avg (tmin)')\n",
    "plt.ylabel('# blocks kept')\n",
    "plt.show()"
   ]
  },
  {
   "cell_type": "code",
   "execution_count": null,
   "metadata": {
    "collapsed": true
   },
   "outputs": [],
   "source": []
  }
 ],
 "metadata": {
  "celltoolbar": "Raw Cell Format",
  "kernelspec": {
   "display_name": "Python 3",
   "language": "python",
   "name": "python3"
  },
  "language_info": {
   "codemirror_mode": {
    "name": "ipython",
    "version": 3
   },
   "file_extension": ".py",
   "mimetype": "text/x-python",
   "name": "python",
   "nbconvert_exporter": "python",
   "pygments_lexer": "ipython3",
   "version": "3.5.1"
  }
 },
 "nbformat": 4,
 "nbformat_minor": 0
}
